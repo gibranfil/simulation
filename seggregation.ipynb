{
 "cells": [
  {
   "cell_type": "code",
   "execution_count": 1,
   "metadata": {},
   "outputs": [
    {
     "name": "stdout",
     "output_type": "stream",
     "text": [
      "Converged after 71 iterations\n"
     ]
    },
    {
     "data": {
      "image/png": "[encoded data removed]",
      "text/plain": [
       "<Figure size 640x480 with 2 Axes>"
      ]
     },
     "metadata": {},
     "output_type": "display_data"
    }
   ],
   "source": [
    "import numpy as np\n",
    "import matplotlib.pyplot as plt\n",
    "\n",
    "class SchellingModel:\n",
    "    def __init__(self, grid_size, n_agents, n_types, similarity_threshold, max_iterations=500):\n",
    "        self.grid_size = grid_size\n",
    "        self.n_agents = n_agents\n",
    "        self.n_types = n_types\n",
    "        self.similarity_threshold = similarity_threshold\n",
    "        self.max_iterations = max_iterations\n",
    "        self.grid = np.zeros((grid_size, grid_size), dtype=int)\n",
    "        self.empty_cells = grid_size * grid_size - n_agents\n",
    "        self.agents = []\n",
    "\n",
    "    def initialize_grid(self):\n",
    "        # Randomly place agents on the grid\n",
    "        positions = np.random.choice(self.grid_size * self.grid_size, self.n_agents, replace=False)\n",
    "        for pos in positions:\n",
    "            x, y = divmod(pos, self.grid_size)\n",
    "            agent_type = np.random.randint(1, self.n_types + 1)\n",
    "            self.grid[x, y] = agent_type\n",
    "            self.agents.append((x, y, agent_type))\n",
    "\n",
    "    def get_neighbors(self, x, y):\n",
    "        # Get the types of the 8 neighbors (Moore neighborhood)\n",
    "        neighbors = []\n",
    "        for i in range(-1, 2):\n",
    "            for j in range(-1, 2):\n",
    "                if i == 0 and j == 0:\n",
    "                    continue\n",
    "                nx, ny = x + i, y + j\n",
    "                if 0 <= nx < self.grid_size and 0 <= ny < self.grid_size:\n",
    "                    neighbors.append(self.grid[nx, ny])\n",
    "        return neighbors\n",
    "\n",
    "    def is_satisfied(self, x, y, agent_type):\n",
    "        neighbors = self.get_neighbors(x, y)\n",
    "        if not neighbors:\n",
    "            return True\n",
    "        similar_neighbors = sum(1 for n in neighbors if n == agent_type)\n",
    "        similarity_ratio = similar_neighbors / len(neighbors)\n",
    "        return similarity_ratio >= self.similarity_threshold\n",
    "\n",
    "    def move_agent(self, agent_idx):\n",
    "        x, y, agent_type = self.agents[agent_idx]\n",
    "        if not self.is_satisfied(x, y, agent_type):\n",
    "            # Find an empty cell to move to\n",
    "            empty_cells = [(i, j) for i in range(self.grid_size) for j in range(self.grid_size) if self.grid[i, j] == 0]\n",
    "            if empty_cells:\n",
    "                new_x, new_y = empty_cells[np.random.choice(len(empty_cells))]\n",
    "                self.grid[x, y] = 0\n",
    "                self.grid[new_x, new_y] = agent_type\n",
    "                self.agents[agent_idx] = (new_x, new_y, agent_type)\n",
    "\n",
    "    def run(self):\n",
    "        self.initialize_grid()\n",
    "        for iteration in range(self.max_iterations):\n",
    "            np.random.shuffle(self.agents)\n",
    "            for agent_idx in range(len(self.agents)):\n",
    "                self.move_agent(agent_idx)\n",
    "            if all(self.is_satisfied(x, y, agent_type) for x, y, agent_type in self.agents):\n",
    "                print(f\"Converged after {iteration + 1} iterations\")\n",
    "                break\n",
    "        else:\n",
    "            print(f\"Reached maximum iterations ({self.max_iterations})\")\n",
    "\n",
    "    def plot_grid(self):\n",
    "        plt.imshow(self.grid, cmap='viridis', interpolation='none')\n",
    "        plt.colorbar()\n",
    "        plt.show()\n",
    "\n",
    "# Parameters\n",
    "grid_size = 50\n",
    "n_agents = 2000\n",
    "n_types = 2\n",
    "similarity_threshold = 0.5\n",
    "\n",
    "# Run the model\n",
    "model = SchellingModel(grid_size, n_agents, n_types, similarity_threshold)\n",
    "model.run()\n",
    "model.plot_grid()"
   ]
  },
  {
   "cell_type": "code",
   "execution_count": null,
   "metadata": {},
   "outputs": [],
   "source": []
  }
 ],
 "metadata": {
  "kernelspec": {
   "display_name": "playground",
   "language": "python",
   "name": "python3"
  },
  "language_info": {
   "codemirror_mode": {
    "name": "ipython",
    "version": 3
   },
   "file_extension": ".py",
   "mimetype": "text/x-python",
   "name": "python",
   "nbconvert_exporter": "python",
   "pygments_lexer": "ipython3",
   "version": "3.11.10"
  }
 },
 "nbformat": 4,
 "nbformat_minor": 2
}
